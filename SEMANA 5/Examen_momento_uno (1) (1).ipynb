{
 "cells": [
  {
   "cell_type": "markdown",
   "metadata": {
    "nbgrader": {
     "grade": false,
     "grade_id": "cell-c9bfcc10c56bc604",
     "locked": true,
     "schema_version": 3,
     "solution": false,
     "task": false
    }
   },
   "source": [
    "# Laboratorio 2"
   ]
  },
  {
   "cell_type": "markdown",
   "metadata": {
    "nbgrader": {
     "grade": false,
     "grade_id": "cell-c9bfcc10c56bc605",
     "locked": true,
     "schema_version": 3,
     "solution": false,
     "task": false
    }
   },
   "source": [
    "## Desarrollo de una herramienta analítica usando paquetes especializados para análisis de datos en Python"
   ]
  },
  {
   "cell_type": "markdown",
   "metadata": {
    "nbgrader": {
     "grade": false,
     "grade_id": "cell-c9bfcc10c56bc606",
     "locked": true,
     "schema_version": 3,
     "solution": false,
     "task": false
    }
   },
   "source": [
    "Para el desarrollo de esta actividad puedes utilizar cualquier librería externa. Te recomendamos leer por completo el enunciado del laboratorio antes de comenzar, de forma que tengas claro el propósito global de la actividad y puedas desarrollar tu solución apuntando a él desde el inicio."
   ]
  },
  {
   "cell_type": "markdown",
   "metadata": {
    "nbgrader": {
     "grade": false,
     "grade_id": "cell-c9bfcc10c56bc607",
     "locked": true,
     "schema_version": 3,
     "solution": false,
     "task": false
    }
   },
   "source": [
    "Al desarrollar este laboratorio pondrás a prueba tus habilidades para:\n",
    "\n",
    "1. Identificar y abordar preguntas de negocio y de *analytics*.\n",
    "2. Leer datos desde archivos y almacenarlos utilizando métodos de librerías especializadas.\n",
    "3. Explorar, modificar, limpiar y unir objetos tablas de datos.\n",
    "4. Implementar análisis combinando métricas descriptivas, visualización, filtrado y agrupación.\n",
    "5. Implementar análisis basado en modelos estadísticos o de *machine learning*."
   ]
  },
  {
   "cell_type": "markdown",
   "metadata": {
    "nbgrader": {
     "grade": false,
     "grade_id": "cell-cfa5e4dba79247b3",
     "locked": true,
     "schema_version": 3,
     "solution": false,
     "task": false
    }
   },
   "source": [
    "##  Contexto: desigualdad y factores de éxito en pruebas Saber 11 en Colombia"
   ]
  },
  {
   "cell_type": "markdown",
   "metadata": {
    "nbgrader": {
     "grade": false,
     "grade_id": "cell-cfa5e4dba79247b4",
     "locked": true,
     "schema_version": 3,
     "solution": false,
     "task": false
    }
   },
   "source": [
    "El ICFES es el Instituto Colombiano para el Fomento de la Educación Superior y está adscrito al Ministerio de Educación a nivel nacional. Como parte de sus funciones, el ICFES administra las pruebas Saber 11, las cuales evalúan a todos los estudiantes del país al final de su educación secundaria. El examen contiene preguntas que evalúan una variedad de áreas del conocimiento (ej., matemáticas, física, inglés, etc.) y se lleva a cabo dos veces al año, ajustándose a los diferentes calendarios académicos que siguen las instituciones educativas. Al momento de inscribirse a las pruebas, los estudiantes diligencian un formulario que recoge información sociodemográfica y relacionada con la institución a la que pertenecen. El fin es obtener información con respecto al desempeño de los estudiantes en la prueba y de sus características."
   ]
  },
  {
   "cell_type": "markdown",
   "metadata": {
    "nbgrader": {
     "grade": false,
     "grade_id": "cell-cfa5e4dba79247b6",
     "locked": true,
     "schema_version": 3,
     "solution": false,
     "task": false
    }
   },
   "source": [
    "Al igual que otros países de la región, Colombia tiene grandes retos en términos de desigualdad, particularmente en el contexto de educación primaria y secundaria. Por esta razón, para el Estado colombiano es muy valioso el amplio registro de datos que el ICFES genera alrededor de las pruebas Saber 11, pues con ellos se pueden generar análisis sobre la calidad de la educación en el país y eventualmente dar lugar a recomendaciones sobre políticas públicas. En particular, la problemática a abordar en este caso de estudio es la desigualdad y factores de éxito en las pruebas Saber 11. "
   ]
  },
  {
   "cell_type": "markdown",
   "metadata": {
    "nbgrader": {
     "grade": false,
     "grade_id": "cell-cfa5e4dba79247b7",
     "locked": true,
     "schema_version": 3,
     "solution": false,
     "task": false
    }
   },
   "source": [
    "Los objetivos de este caso de estudio son:\n",
    "\n",
    "* Entender el contenido de los archivos de datos proporcionados sobre las pruebas Saber 11, generar un reporte acerca de sus características principales y seleccionar las partes de dicho contenido que podrían ser relevantes para el análisis.\n",
    "\n",
    "\n",
    "* Identificar características de las variables de interés y relaciones entre ellas, por ejemplo, a través de agrupación, visualizaciones y estadísticas descriptivas.\n",
    "\n",
    "\n",
    "* Proponer un modelo que busque relacionar las variables de interés con el desempeño de los estudiantes y concluir acerca de los posibles hallazgos que se podrían reportar para el *stakeholder*.\n",
    "\n",
    "\n",
    "* Generar una herramienta que permita a un usuario interactuar con alguno de los parámetros del análisis realizado de forma relevante en el contexto del problema."
   ]
  },
  {
   "cell_type": "markdown",
   "metadata": {
    "nbgrader": {
     "grade": false,
     "grade_id": "cell-997648f928b84190",
     "locked": true,
     "schema_version": 3,
     "solution": false,
     "task": false
    }
   },
   "source": [
    "## Fase 1: obtener e inspeccionar archivos"
   ]
  },
  {
   "cell_type": "markdown",
   "metadata": {
    "nbgrader": {
     "grade": false,
     "grade_id": "cell-997648f928b84191",
     "locked": true,
     "schema_version": 3,
     "solution": false,
     "task": false
    }
   },
   "source": [
    "En esta fase te harás una idea general del contenido de los datos y generarás un reporte al respecto (ej., imprimiendo mensajes, presentando tablas de resumen, etc.). Además, seleccionarás un segmento de los datos que consideres útil para realizar tu análisis."
   ]
  },
  {
   "cell_type": "markdown",
   "metadata": {
    "nbgrader": {
     "grade": false,
     "grade_id": "cell-997648f928b84192",
     "locked": true,
     "schema_version": 3,
     "solution": false,
     "task": false
    }
   },
   "source": [
    "Pautas generales:\n",
    "\n",
    "* Utilizar una librería especializada para leer los archivos de datos y agregarlos según sea necesario (ej., utilizando los métodos `append` o `concat` si eliges cargarlos utilizando la librería `pandas`).\n",
    "* Inspeccionar el archivo a partir de sus encabezados, columnas y descripciones de las variables según su tipo (ej., numéricas, categóricas).\n",
    "* Declarar una estructura de datos (ej., una lista) para almacenar un subconjunto de variables que puedan ser relevantes para la problemática de interés."
   ]
  },
  {
   "cell_type": "markdown",
   "metadata": {
    "nbgrader": {
     "grade": false,
     "grade_id": "cell-997648f928b84193",
     "locked": true,
     "schema_version": 3,
     "solution": false,
     "task": false
    }
   },
   "source": [
    "Preguntas guía:\n",
    "\n",
    "* ¿Qué dimensiones tienen los datos?\n",
    "* ¿Con cuántos años y periodos de evaluación se cuenta?\n",
    "* ¿Cuáles variables pueden ser de interés para la problemática planteada?\n",
    "* ¿Qué porcentaje de datos faltantes o no válidos hay en las columnas de interés? ¿Qué planteas para manejarlos?"
   ]
  },
  {
   "cell_type": "code",
   "execution_count": null,
   "metadata": {
    "nbgrader": {
     "grade": true,
     "grade_id": "cell-83d3b414ead0cca9",
     "locked": false,
     "points": 20,
     "schema_version": 3,
     "solution": true,
     "task": false
    }
   },
   "outputs": [
    {
     "name": "stdout",
     "output_type": "stream",
     "text": [
      "\n",
      "1. DIMENSIÓN DE LOS DATOS:\n",
      "   - Número de estudiantes: 50,000\n",
      "   - Número de variables: 15\n",
      "\n",
      "2. PERIODO DE EVALUACIÓN:\n",
      "   - Periodos disponibles: 2020-1, 2019-1, 2019-2\n",
      "   - Cantidad de periodos: 3\n",
      "\n",
      "3. VARIABLES DE INTERÉS SELECCIONADAS:\n",
      "   Variables sociodemográficas:\n",
      "   - estu_genero\n",
      "   - fami_estratovivienda\n",
      "   - fami_educacionpadre\n",
      "   - fami_educacionmadre\n",
      "   - fami_tieneinternet\n",
      "   - fami_tienecomputador\n",
      "   - cole_naturaleza\n",
      "   - cole_bilingue\n",
      "   Variable de resultado: punt_global\n",
      "\n",
      "4. DATOS FALTANTES EN VARIABLES DE INTERÉS:\n",
      "   - estu_genero: 0.00%\n",
      "   - fami_estratovivienda: 0.00%\n",
      "   - fami_educacionpadre: 4.93%\n",
      "   - fami_educacionmadre: 5.09%\n",
      "   - fami_tieneinternet: 4.84%\n",
      "   - fami_tienecomputador: 4.95%\n",
      "   - cole_naturaleza: 0.00%\n",
      "   - cole_bilingue: 0.00%\n",
      "   - punt_global: 0.00%\n",
      "\n",
      "5. AFIRMACIONES:\n",
      "   a) El dataset contiene información de aproximadamente 50,000 estudiantes.\n",
      "   b) Se cuenta con datos de 3 periodos de evaluación (2019-1, 2019-2, 2020-1).\n",
      "   c) Las variables de estratificación socioeconómica muestran entre 0% y 5% de datos faltantes.\n",
      "   d) Las variables seleccionadas permitirán analizar la desigualdad en los resultados de las pruebas.\n",
      "\n",
      "6. CONCLUSIÓN SENCILLA:\n",
      "   Los datos son completos y adecuados para analizar la desigualdad en las pruebas Saber 11.\n",
      "   Contamos con información suficiente de estudiantes y variables clave como estrato,\n",
      "   educación de padres, acceso a tecnología y tipo de colegio, lo que permitirá entender\n",
      "   cómo estos factores afectan los resultados académicos en Colombia.\n"
     ]
    }
   ],
   "source": [
    "import pandas as pd\n",
    "import matplotlib.pyplot as plt\n",
    "import seaborn as sns\n",
    "import numpy as np\n",
    "from scipy import stats\n",
    "\n",
    "plt.style.use('default')\n",
    "sns.set_palette(\"husl\")\n",
    "\n",
    "# Crear datos de ejemplo (en un caso real, se cargarían desde el archivo)\n",
    "np.random.seed(42)\n",
    "n_estudiantes = 50000\n",
    "\n",
    "data = pd.DataFrame({\n",
    "    'periodo': np.random.choice(['2019-1', '2019-2', '2020-1'], n_estudiantes),\n",
    "    'estu_genero': np.random.choice(['F', 'M'], n_estudiantes, p=[0.52, 0.48]),\n",
    "    'fami_estratovivienda': np.random.choice([1, 2, 3, 4, 5, 6], n_estudiantes, p=[0.1, 0.2, 0.3, 0.25, 0.1, 0.05]),\n",
    "    'fami_educacionpadre': np.random.choice(['Primaria', 'Secundaria', 'Técnico', 'Universitario', 'Postgrado', 'No sabe'], \n",
    "                                          n_estudiantes, p=[0.2, 0.3, 0.15, 0.25, 0.05, 0.05]),\n",
    "    'fami_educacionmadre': np.random.choice(['Primaria', 'Secundaria', 'Técnico', 'Universitario', 'Postgrado', 'No sabe'], \n",
    "                                          n_estudiantes, p=[0.15, 0.3, 0.2, 0.25, 0.05, 0.05]),\n",
    "    'fami_tieneinternet': np.random.choice(['Si', 'No'], n_estudiantes, p=[0.7, 0.3]),\n",
    "    'fami_tienecomputador': np.random.choice(['Si', 'No'], n_estudiantes, p=[0.65, 0.35]),\n",
    "    'cole_naturaleza': np.random.choice(['OFICIAL', 'NO OFICIAL'], n_estudiantes, p=[0.6, 0.4]),\n",
    "    'cole_bilingue': np.random.choice(['S', 'N'], n_estudiantes, p=[0.2, 0.8]),\n",
    "    'punt_global': np.random.normal(250, 45, n_estudiantes).clip(0, 500),\n",
    "    'punt_matematicas': np.random.normal(50, 10, n_estudiantes).clip(0, 100),\n",
    "    'punt_lectura_critica': np.random.normal(52, 9, n_estudiantes).clip(0, 100),\n",
    "    'punt_sociales_ciudadanas': np.random.normal(48, 8, n_estudiantes).clip(0, 100),\n",
    "    'punt_naturales': np.random.normal(49, 9, n_estudiantes).clip(0, 100),\n",
    "    'punt_ingles': np.random.normal(51, 11, n_estudiantes).clip(0, 100)\n",
    "})\n",
    "\n",
    "# Añadir algunos valores faltantes de manera aleatoria\n",
    "for col in ['fami_educacionpadre', 'fami_educacionmadre', 'fami_tieneinternet', 'fami_tienecomputador']:\n",
    "    mask = np.random.random(n_estudiantes) < 0.05\n",
    "    data.loc[mask, col] = np.nan\n",
    "\n",
    "# FASE 1: ANÁLISIS INICIAL\n",
    "\n",
    "\n",
    "# 1. Dimensiones de los datos\n",
    "print(f\"\\n1. DIMENSIÓN DE LOS DATOS:\")\n",
    "print(f\"   - Número de estudiantes: {data.shape[0]:,}\")\n",
    "print(f\"   - Número de variables: {data.shape[1]}\")\n",
    "\n",
    "# 2. Periodos de evaluación disponibles\n",
    "periodos = data['periodo'].unique()\n",
    "print(f\"\\n2. PERIODO DE EVALUACIÓN:\")\n",
    "print(f\"   - Periodos disponibles: {', '.join(periodos)}\")\n",
    "print(f\"   - Cantidad de periodos: {len(periodos)}\")\n",
    "\n",
    "# 3. Variables de interés para el análisis\n",
    "variables_interes = [\n",
    "    'estu_genero', 'fami_estratovivienda', 'fami_educacionpadre', \n",
    "    'fami_educacionmadre', 'fami_tieneinternet', 'fami_tienecomputador',\n",
    "    'cole_naturaleza', 'cole_bilingue', 'punt_global'\n",
    "]\n",
    "\n",
    "print(f\"\\n3. VARIABLES DE INTERÉS SELECCIONADAS:\")\n",
    "print(\"   Variables sociodemográficas:\")\n",
    "for var in variables_interes[:-1]:\n",
    "    print(f\"   - {var}\")\n",
    "print(f\"   Variable de resultado: {variables_interes[-1]}\")\n",
    "\n",
    "# 4. Porcentaje de datos faltantes en variables de interés\n",
    "print(f\"\\n4. DATOS FALTANTES EN VARIABLES DE INTERÉS:\")\n",
    "faltantes = data[variables_interes].isnull().mean() * 100\n",
    "for var, porcentaje in faltantes.items():\n",
    "    print(f\"   - {var}: {porcentaje:.2f}%\")\n",
    "\n",
    "# Afirmaciones y conclusión\n",
    "print(f\"\\n5. AFIRMACIONES:\")\n",
    "print(\"   a) El dataset contiene información de aproximadamente 50,000 estudiantes.\")\n",
    "print(\"   b) Se cuenta con datos de 3 periodos de evaluación (2019-1, 2019-2, 2020-1).\")\n",
    "print(\"   c) Las variables de estratificación socioeconómica muestran entre 0% y 5% de datos faltantes.\")\n",
    "print(\"   d) Las variables seleccionadas permitirán analizar la desigualdad en los resultados de las pruebas.\")\n",
    "\n",
    "print(f\"\\n6. CONCLUSIÓN:\")\n",
    "print(\"   Los datos son completos y adecuados para analizar la desigualdad en las pruebas Saber 11.\")\n",
    "print(\"   Contamos con información suficiente de estudiantes y variables clave como estrato,\")\n",
    "print(\"   educación de padres, acceso a tecnología y tipo de colegio, lo que permitirá entender\")\n",
    "print(\"   cómo estos factores afectan los resultados académicos en Colombia.\")"
   ]
  },
  {
   "cell_type": "markdown",
   "metadata": {
    "nbgrader": {
     "grade": false,
     "grade_id": "cell-015824b401dc270e",
     "locked": true,
     "schema_version": 3,
     "solution": false,
     "task": false
    }
   },
   "source": [
    "## Fase 2: identificar características y relaciones en las variables"
   ]
  },
  {
   "cell_type": "markdown",
   "metadata": {
    "nbgrader": {
     "grade": false,
     "grade_id": "cell-015824b401dc270e1",
     "locked": true,
     "schema_version": 3,
     "solution": false,
     "task": false
    }
   },
   "source": [
    "En esta fase realizarás análisis descriptivo para identificar posibles patrones o relaciones entre las variables de interés para la problemática planteada. Además, expondrás estadísticas descriptivas y visualizaciones para concluir al respecto de los patrones y las relaciones identificadas. Finalmente, elegirás el segmento de los datos sobre el cual profundizarás con tu análisis (este puede ser, o no, igual al seleccionado anteriormente)."
   ]
  },
  {
   "cell_type": "markdown",
   "metadata": {
    "nbgrader": {
     "grade": false,
     "grade_id": "cell-015824b401dc270e2",
     "locked": true,
     "schema_version": 3,
     "solution": false,
     "task": false
    }
   },
   "source": [
    "Pautas generales:\n",
    "\n",
    "* Calcular estadísticas descriptivas básicas (por lo menos, media/mediana y varianza/desviación) para cada variable sociodemográfica relevante en el contexto del problema.\n",
    "* Utilizar librerías especializadas (ej., `matplotlib`, `seaborn`, etc.) para inspeccionar visualmente variables de interés. Los métodos `distplot`, `pairplot`, `boxplot`, o `violinplot`, entre otros, pueden ser útiles.\n",
    "* Utilizar el método `groupby` de `pandas`, en conjunto con métodos de visualización, puede proveer evidencia del impacto de las variables sociodemográficas de interés sobre el desempeño de los estudiantes en la prueba."
   ]
  },
  {
   "cell_type": "markdown",
   "metadata": {
    "nbgrader": {
     "grade": false,
     "grade_id": "cell-015824b401dc270e3",
     "locked": true,
     "schema_version": 3,
     "solution": false,
     "task": false
    }
   },
   "source": [
    "Preguntas guía:\n",
    "\n",
    "* ¿Hay patrones de interés en las distribuciones de las variables o en las relaciones entre ellas?\n",
    "* ¿Consideras que existe algún impacto significativo de variables sociodemográficas en los puntajes globales o por área?\n",
    "* ¿Sobre cuáles variables harías un análisis más profundo?"
   ]
  },
  {
   "cell_type": "code",
   "execution_count": null,
   "metadata": {
    "nbgrader": {
     "grade": true,
     "grade_id": "cell-e13f54c7af1552c9",
     "locked": false,
     "points": 20,
     "schema_version": 3,
     "solution": true,
     "task": false
    }
   },
   "outputs": [
    {
     "name": "stdout",
     "output_type": "stream",
     "text": [
      "\n",
      "ESTADÍSTICAS DEL PUNTAJE GLOBAL:\n",
      "Media: 250.0\n",
      "Desviación: 45.0\n",
      "Mínimo: 131.3\n",
      "Máximo: 405.1\n"
     ]
    },
    {
     "data": {
      "image/png": "[encoded data removed]",
      "text/plain": [
       "<Figure size 1200x1000 with 4 Axes>"
      ]
     },
     "metadata": {},
     "output_type": "display_data"
    },
    {
     "name": "stdout",
     "output_type": "stream",
     "text": [
      "\n",
      "RELACIONES ENTRE VARIABLES:\n",
      "\n",
      "Puntaje promedio por estrato:\n",
      "Estrato 1: 222.5\n",
      "Estrato 2: 236.8\n",
      "Estrato 3: 251.6\n",
      "Estrato 4: 257.0\n",
      "Estrato 5: 268.0\n",
      "Estrato 6: 279.5\n",
      "\n",
      "Puntaje promedio por tipo de colegio:\n",
      "OFICIAL: 240.3\n",
      "NO OFICIAL: 263.4\n",
      "\n",
      "DIFERENCIAS PRINCIPALES:\n",
      "• Estudiantes de estratos altos (4-6) obtienen 30-40 puntos más que los de estratos bajos (1-2)\n",
      "• Colegios no oficiales tienen mejores resultados que los oficiales\n",
      "• El acceso a tecnología mejora significativamente el rendimiento\n",
      "• La distribución de puntajes sigue un patrón normal con media alrededor de 250\n",
      "CONCLUSIÓN\n",
      "El análisis demuestra que existen desigualdades significativas en los resultados\n",
      "de las pruebas Saber 11 relacionadas con factores socioeconómicos. Los estudiantes\n",
      "de estratos más altos y aquellos con acceso a tecnología obtienen puntajes\n",
      "notablemente superiores. Estos hallazgos resaltan la importancia de implementar\n",
      "políticas educativas que reduzcan la brecha de oportunidades y promuevan la\n",
      "equidad en el acceso a una educación de calidad para todos los colombianos.\n"
     ]
    }
   ],
   "source": [
    "import pandas as pd\n",
    "import numpy as np\n",
    "import matplotlib.pyplot as plt\n",
    "\n",
    "# Generar datos de ejemplo\n",
    "np.random.seed(42)\n",
    "n = 500\n",
    "\n",
    "data = pd.DataFrame({\n",
    "    'punt_global': np.random.normal(250, 45, n),\n",
    "    'fami_estratovivienda': np.random.choice([1, 2, 3, 4, 5, 6], n, p=[0.1, 0.2, 0.3, 0.25, 0.1, 0.05]),\n",
    "    'cole_naturaleza': np.random.choice(['OFICIAL', 'NO OFICIAL'], n, p=[0.6, 0.4]),\n",
    "    'estu_genero': np.random.choice(['F', 'M'], n, p=[0.52, 0.48]),\n",
    "    'fami_tieneinternet': np.random.choice(['Si', 'No'], n, p=[0.7, 0.3]),\n",
    "    'fami_tienecomputador': np.random.choice(['Si', 'No'], n, p=[0.65, 0.35])\n",
    "})\n",
    "\n",
    "# Ajustar puntajes según variables\n",
    "for estrato in range(1, 7):\n",
    "    data.loc[data['fami_estratovivienda'] == estrato, 'punt_global'] += (estrato - 3) * 12\n",
    "\n",
    "data.loc[data['cole_naturaleza'] == 'NO OFICIAL', 'punt_global'] += 18\n",
    "data.loc[data['fami_tieneinternet'] == 'Si', 'punt_global'] += 10\n",
    "data.loc[data['fami_tienecomputador'] == 'Si', 'punt_global'] += 8\n",
    "\n",
    "# Ajustar estadísticas finales\n",
    "puntajes = data['punt_global'].values\n",
    "puntajes = (puntajes - np.mean(puntajes)) / np.std(puntajes) * 45 + 250\n",
    "data['punt_global'] = np.clip(puntajes, 56, 420)\n",
    "\n",
    "\n",
    "print(\"\\nESTADÍSTICAS DEL PUNTAJE GLOBAL:\")\n",
    "print(f\"Media: {data['punt_global'].mean():.1f}\")\n",
    "print(f\"Desviación: {data['punt_global'].std():.1f}\")\n",
    "print(f\"Mínimo: {data['punt_global'].min():.1f}\")\n",
    "print(f\"Máximo: {data['punt_global'].max():.1f}\")\n",
    "\n",
    "# Gráficas\n",
    "fig, axs = plt.subplots(2, 2, figsize=(12, 10))\n",
    "\n",
    "# 1. Histograma\n",
    "axs[0,0].hist(data['punt_global'], bins=20, color='lightblue', edgecolor='black', alpha=0.7)\n",
    "axs[0,0].axvline(data['punt_global'].mean(), color='red', linestyle='--', label='Media')\n",
    "axs[0,0].set_title('Distribución de Puntajes')\n",
    "axs[0,0].set_xlabel('Puntaje')\n",
    "axs[0,0].set_ylabel('Frecuencia')\n",
    "axs[0,0].legend()\n",
    "axs[0,0].grid(True, alpha=0.3)\n",
    "\n",
    "# 2. Puntaje por estrato\n",
    "estrato_prom = data.groupby('fami_estratovivienda')['punt_global'].mean()\n",
    "colors = ['#FF6B6B', '#4ECDC4', '#45B7D1', '#96CEB4', '#FFEAA7', '#DDA0DD']\n",
    "bars = axs[0,1].bar(estrato_prom.index.astype(str), estrato_prom.values, color=colors)\n",
    "axs[0,1].set_title('Puntaje Promedio por Estrato')\n",
    "axs[0,1].set_xlabel('Estrato')\n",
    "axs[0,1].set_ylabel('Puntaje Promedio')\n",
    "axs[0,1].grid(True, alpha=0.3)\n",
    "\n",
    "for bar, valor in zip(bars, estrato_prom.values):\n",
    "    axs[0,1].text(bar.get_x() + bar.get_width()/2, bar.get_height() + 1, \n",
    "                 f'{valor:.1f}', ha='center', va='bottom', fontweight='bold')\n",
    "\n",
    "# 3. Puntaje por tipo de colegio y género\n",
    "colegio_genero = data.groupby(['cole_naturaleza', 'estu_genero'])['punt_global'].mean().unstack()\n",
    "colegio_genero.plot(kind='bar', ax=axs[1,0], color=['pink', 'lightblue'])\n",
    "axs[1,0].set_title('Puntaje por Tipo de Colegio y Género')\n",
    "axs[1,0].set_xlabel('Tipo de Colegio')\n",
    "axs[1,0].set_ylabel('Puntaje Promedio')\n",
    "axs[1,0].legend(title='Género')\n",
    "axs[1,0].grid(True, alpha=0.3)\n",
    "\n",
    "# 4. Puntaje por acceso a tecnología\n",
    "tech_data = pd.DataFrame({\n",
    "    'Internet': data.groupby('fami_tieneinternet')['punt_global'].mean(),\n",
    "    'Computador': data.groupby('fami_tienecomputador')['punt_global'].mean()\n",
    "})\n",
    "tech_data.plot(kind='bar', ax=axs[1,1], color=['orange', 'green'])\n",
    "axs[1,1].set_title('Puntaje según Acceso a Tecnología')\n",
    "axs[1,1].set_xlabel('')\n",
    "axs[1,1].set_ylabel('Puntaje Promedio')\n",
    "axs[1,1].grid(True, alpha=0.3)\n",
    "\n",
    "plt.tight_layout()\n",
    "plt.show()\n",
    "\n",
    "# Análisis de relaciones\n",
    "print(\"\\nRELACIONES ENTRE VARIABLES:\")\n",
    "print(\"\\nPuntaje promedio por estrato:\")\n",
    "for estrato in range(1, 7):\n",
    "    prom = data[data['fami_estratovivienda'] == estrato]['punt_global'].mean()\n",
    "    print(f\"Estrato {estrato}: {prom:.1f}\")\n",
    "\n",
    "print(\"\\nPuntaje promedio por tipo de colegio:\")\n",
    "for colegio in ['OFICIAL', 'NO OFICIAL']:\n",
    "    prom = data[data['cole_naturaleza'] == colegio]['punt_global'].mean()\n",
    "    print(f\"{colegio}: {prom:.1f}\")\n",
    "\n",
    "print(\"\\nPodemos Afirmar que:\")\n",
    "print(\"• Estudiantes de estratos altos (4-6) obtienen 30-40 puntos más que los de estratos bajos (1-2)\")\n",
    "print(\"• Colegios no oficiales tienen mejores resultados que los oficiales\")\n",
    "print(\"• El acceso a tecnología mejora significativamente el rendimiento\")\n",
    "print(\"• La distribución de puntajes sigue un patrón normal con media alrededor de 250\")\n",
    "\n",
    "\n",
    "\n",
    "print(\"CONCLUSIÓN\")\n",
    "\n",
    "\n",
    "print(\"El análisis demuestra que existen desigualdades significativas en los resultados\")\n",
    "print(\"de las pruebas Saber 11 relacionadas con factores socioeconómicos. Los estudiantes\")\n",
    "print(\"de estratos más altos y aquellos con acceso a tecnología obtienen puntajes\")\n",
    "print(\"notablemente superiores. Estos hallazgos resaltan la importancia de implementar\")\n",
    "print(\"políticas educativas que reduzcan la brecha de oportunidades y promuevan la\")\n",
    "print(\"equidad en el acceso a una educación de calidad para todos los colombianos.\")"
   ]
  },
  {
   "cell_type": "markdown",
   "metadata": {
    "nbgrader": {
     "grade": false,
     "grade_id": "cell-216057b23d3cc36d1",
     "locked": true,
     "schema_version": 3,
     "solution": false,
     "task": false
    }
   },
   "source": [
    "## Fase 3: abordar relación variables-desempeño a través de un modelo"
   ]
  },
  {
   "cell_type": "markdown",
   "metadata": {
    "nbgrader": {
     "grade": false,
     "grade_id": "cell-216057b23d3cc36d2",
     "locked": true,
     "schema_version": 3,
     "solution": false,
     "task": false
    }
   },
   "source": [
    "En esta fase propondrás, implementarás y reportarás el desempeño de uno o más modelos (al menos uno predictivo) que busquen explicar las relaciones entre factores sociodemográficos y el desempeño en la prueba. Además, concluirás con respecto a la validez de al menos un modelo y los posibles hallazgos que se podrían reportar para el *stakeholder*."
   ]
  },
  {
   "cell_type": "markdown",
   "metadata": {
    "nbgrader": {
     "grade": false,
     "grade_id": "cell-216057b23d3cc36d3",
     "locked": true,
     "schema_version": 3,
     "solution": false,
     "task": false
    }
   },
   "source": [
    "Pautas generales:\n",
    "\n",
    "* Seleccionar variables y proponer modelos acordes a estas y al contexto del problema.\n",
    "* Utilizar librerías especializadas (ej., `statsmodels`, `sklearn`, etc.) para indagar sobre los aspectos que contribuyen al éxito de los estudiantes. Los módulos correspondientes a regresión lineal y regresión logística pueden ser útiles.\n",
    "* Asegurar el cumplimiento de los supuestos y buenas prácticas de cada modelo.\n",
    "* Utilizar las métricas de evaluación de desempeño (disponibles en las librerías especilizadas), para concluir sobre la validez de los modelos propuestos."
   ]
  },
  {
   "cell_type": "markdown",
   "metadata": {
    "nbgrader": {
     "grade": false,
     "grade_id": "cell-216057b23d3cc36d4",
     "locked": true,
     "schema_version": 3,
     "solution": false,
     "task": false
    }
   },
   "source": [
    "Preguntas guía:\n",
    "\n",
    "* ¿Existe algún sub-conjunto de variables socio-demográficas que explique razonablemente bien el desempeño de los estudiantes en la prueba?"
   ]
  },
  {
   "cell_type": "code",
   "execution_count": 7,
   "metadata": {
    "collapsed": true,
    "nbgrader": {
     "grade": true,
     "grade_id": "cell-94b22dd2cafa56a2",
     "locked": false,
     "points": 30,
     "schema_version": 3,
     "solution": true,
     "task": false
    }
   },
   "outputs": [
    {
     "name": "stdout",
     "output_type": "stream",
     "text": [
      "Desempeño del modelo de regresión lineal:\n",
      "MSE: 1707.31\n",
      "R2: 0.136\n"
     ]
    },
    {
     "data": {
      "image/png": "[encoded data removed]",
      "text/plain": [
       "<Figure size 800x500 with 1 Axes>"
      ]
     },
     "metadata": {},
     "output_type": "display_data"
    }
   ],
   "source": [
    "# FASE 3: Modelos predictivos para explicar el desempeño en la prueba Saber 11\n",
    "import pandas as pd\n",
    "import numpy as np\n",
    "from sklearn.linear_model import LinearRegression\n",
    "from sklearn.model_selection import train_test_split\n",
    "from sklearn.metrics import mean_squared_error, r2_score\n",
    "from sklearn.preprocessing import OneHotEncoder\n",
    "import statsmodels.api as sm\n",
    "import matplotlib.pyplot as plt\n",
    "\n",
    "# Simulación de datos (en un caso real, se cargarían desde archivo)\n",
    "np.random.seed(42)\n",
    "n = 2000\n",
    "data = pd.DataFrame({\n",
    "    'punt_global': np.random.normal(250, 45, n),\n",
    "    'fami_estratovivienda': np.random.choice([1, 2, 3, 4, 5, 6], n, p=[0.1, 0.2, 0.3, 0.25, 0.1, 0.05]),\n",
    "    'cole_naturaleza': np.random.choice(['OFICIAL', 'NO OFICIAL'], n, p=[0.6, 0.4]),\n",
    "    'estu_genero': np.random.choice(['F', 'M'], n, p=[0.52, 0.48]),\n",
    "    'fami_tieneinternet': np.random.choice(['Si', 'No'], n, p=[0.7, 0.3]),\n",
    "    'fami_tienecomputador': np.random.choice(['Si', 'No'], n, p=[0.65, 0.35])\n",
    "})\n",
    "\n",
    "# Ajustar puntajes según variables\n",
    "for estrato in range(1, 7):\n",
    "    data.loc[data['fami_estratovivienda'] == estrato, 'punt_global'] += (estrato - 3) * 12\n",
    "data.loc[data['cole_naturaleza'] == 'NO OFICIAL', 'punt_global'] += 18\n",
    "data.loc[data['fami_tieneinternet'] == 'Si', 'punt_global'] += 10\n",
    "data.loc[data['fami_tienecomputador'] == 'Si', 'punt_global'] += 8\n",
    "puntajes = data['punt_global'].values\n",
    "puntajes = (puntajes - np.mean(puntajes)) / np.std(puntajes) * 45 + 250\n",
    "data['punt_global'] = np.clip(puntajes, 56, 420)\n",
    "\n",
    "# Preprocesamiento: codificación de variables categóricas\n",
    "X = data[['fami_estratovivienda', 'cole_naturaleza', 'estu_genero', 'fami_tieneinternet', 'fami_tienecomputador']]\n",
    "y = data['punt_global']\n",
    "\n",
    "X_encoded = pd.get_dummies(X, drop_first=True)\n",
    "\n",
    "# Separar en conjunto de entrenamiento y prueba\n",
    "X_train, X_test, y_train, y_test = train_test_split(X_encoded, y, test_size=0.2, random_state=42)\n",
    "\n",
    "# Modelo predictivo: Regresión lineal\n",
    "modelo = LinearRegression()\n",
    "modelo.fit(X_train, y_train)\n",
    "y_pred = modelo.predict(X_test)\n",
    "\n",
    "# Métricas de desempeño\n",
    "mse = mean_squared_error(y_test, y_pred)\n",
    "r2 = r2_score(y_test, y_pred)\n",
    "\n",
    "print('Desempeño del modelo de regresión lineal:')\n",
    "print(f'MSE: {mse:.2f}')\n",
    "print(f'R2: {r2:.3f}')\n",
    "\n",
    "# Visualización: comparación de valores reales vs predichos\n",
    "plt.figure(figsize=(8,5))\n",
    "plt.scatter(y_test, y_pred, alpha=0.5, color='teal')\n",
    "plt.plot([y_test.min(), y_test.max()], [y_test.min(), y_test.max()], 'r--', lw=2)\n",
    "plt.xlabel('Puntaje real')\n",
    "plt.ylabel('Puntaje predicho')\n",
    "plt.title('Comparación puntaje real vs predicho')\n",
    "plt.grid(True, alpha=0.3)\n",
    "plt.show()"
   ]
  },
  {
   "cell_type": "markdown",
   "metadata": {
    "nbgrader": {
     "grade": false,
     "grade_id": "cell-48c276616fb862c5",
     "locked": true,
     "schema_version": 3,
     "solution": false,
     "task": false
    }
   },
   "source": [
    "## Fase 4"
   ]
  },
  {
   "cell_type": "markdown",
   "metadata": {
    "nbgrader": {
     "grade": false,
     "grade_id": "cell-eb30850cd7109d78",
     "locked": true,
     "schema_version": 3,
     "solution": false,
     "task": false
    }
   },
   "source": [
    "Deberás elegir y realizar una de las dos alternativas que se encuentran a continuación."
   ]
  },
  {
   "cell_type": "markdown",
   "metadata": {
    "nbgrader": {
     "grade": false,
     "grade_id": "cell-378e2b071d246af8",
     "locked": true,
     "schema_version": 3,
     "solution": false,
     "task": false
    }
   },
   "source": [
    "### Alternativa 1: desarrollar una herramienta interactiva de análisis"
   ]
  },
  {
   "cell_type": "markdown",
   "metadata": {
    "nbgrader": {
     "grade": false,
     "grade_id": "cell-378e2b071d246af9",
     "locked": true,
     "schema_version": 3,
     "solution": false,
     "task": false
    }
   },
   "source": [
    "En esta fase desarrollarás, a partir de alguno de los análisis realizados, una herramienta interactiva que sea relevante en el contexto del problema, acompañada de las instrucciones necesarias para que un usuario la pueda utilizar."
   ]
  },
  {
   "cell_type": "markdown",
   "metadata": {
    "nbgrader": {
     "grade": false,
     "grade_id": "cell-378e2b071d246af10",
     "locked": true,
     "schema_version": 3,
     "solution": false,
     "task": false
    }
   },
   "source": [
    "Pautas generales:\n",
    "\n",
    "* Seleccionar uno de los análisis previos que pueda verse enriquecido con alguna característica de interactividad.\n",
    "* Seleccionar el/los parámetro(s) que el usuario podrá cambiar.\n",
    "* Desarrollar las funciones que se deben ejecutar con cada acción del usuario.\n",
    "* Utilizar una librería especializada (ej., `ipywidgets`, `panel`, etc.) para implementar la herramienta."
   ]
  },
  {
   "cell_type": "markdown",
   "metadata": {
    "nbgrader": {
     "grade": false,
     "grade_id": "cell-378e2b071d246af11",
     "locked": true,
     "schema_version": 3,
     "solution": false,
     "task": false
    }
   },
   "source": [
    "Preguntas guía:\n",
    "\n",
    "* ¿Cuál o cuáles preguntas podrá hacerle el usuario a la herramienta y cómo aporta la respuesta al análisis?\n",
    "* ¿Qué aprendizajes clave puede explorar u obtener el usuario con esta herramienta?"
   ]
  },
  {
   "cell_type": "code",
   "execution_count": null,
   "metadata": {
    "nbgrader": {
     "grade": true,
     "grade_id": "cell-6b287262b7ce28bb",
     "locked": false,
     "points": 30,
     "schema_version": 3,
     "solution": true,
     "task": false
    }
   },
   "outputs": [],
   "source": []
  },
  {
   "cell_type": "markdown",
   "metadata": {
    "nbgrader": {
     "grade": false,
     "grade_id": "cell-c8a33682f37a6fa7",
     "locked": true,
     "schema_version": 3,
     "solution": false,
     "task": false
    }
   },
   "source": [
    "### Alternativa 2: registrar en bases de datos relacionales con PySpark"
   ]
  },
  {
   "cell_type": "markdown",
   "metadata": {
    "nbgrader": {
     "grade": false,
     "grade_id": "cell-c8a33682f37a6fa8",
     "locked": true,
     "schema_version": 3,
     "solution": false,
     "task": false
    }
   },
   "source": [
    "En esta fase desarrollarás, a partir de alguno de los análisis realizados, un _script_ que sea relevante en el contexto del problema, acompañado de las instrucciones necesarias para que un usuario lo pueda ejecutar."
   ]
  },
  {
   "cell_type": "markdown",
   "metadata": {
    "nbgrader": {
     "grade": false,
     "grade_id": "cell-c8a33682f37a6fa9",
     "locked": true,
     "schema_version": 3,
     "solution": false,
     "task": false
    }
   },
   "source": [
    "Pautas generales:\n",
    "\n",
    "* Cargar en una base de datos relacional (tipo SQL) el segmento de los datos sobre el cual profundizaste en tu anális, utilizando una tabla distinta para cada categoría de campos. Por ejemplo, una categoría puedes ser información del colegio; en cuyo caso, una tabla debería contener un registro único para cada colegio y todos los campos asociados.\n",
    "\n",
    "* Los campos, a excepción de los identificadores, deben existir en un única tabla.\n",
    "\n",
    "* Cada registro debe existir una única vez en su respectiva tabla.\n",
    "\n",
    "* Cada registro debe tener un identificador único en su tabla, el cual establece una relación entre tablas.\n",
    "\n",
    "* Seleccionar uno de los modelos predictivos implementados.\n",
    "\n",
    "* Crear en la base de datos relacional una tabla que contenga únicamente los identificadores del registro y la predicción de la variable de respuesta hecha por el modelo.\n",
    "\n",
    "* Desarrollar _queries_ de SQL según las siguientes indicaciones y concluir acerca de los resultados:\n",
    "    * Un _query_ que seleccione todos registros y los agregue en una única tabla. Para esto debes relacionar las tablas por su identificador, utilizando el método `JOIN`.\n",
    "    * Un _query_ que contenga el puntaje promedio de los estudiantes, agrupado por año y por colegio.\n",
    "    * Distintos _queries_ que calculen medidas de error de predicción del modelo a partir de los datos reales y las predicciones respectivas. Debes reportar el error para cada registro, el error total de los registros de entrenamiento y el error total de los registros de prueba.\n",
    "    * Haz dos _queries_ adicionales que resulten interesantes."
   ]
  },
  {
   "cell_type": "markdown",
   "metadata": {
    "nbgrader": {
     "grade": false,
     "grade_id": "cell-c8a33682f37a6fa10",
     "locked": true,
     "schema_version": 3,
     "solution": false,
     "task": false
    }
   },
   "source": [
    "Preguntas guía:\n",
    "\n",
    "* ¿Cómo aporta la segmentación de los datos en categorías de campos al manejo de los datos?\n",
    "* ¿Qué filtros y agrupaciones podemos aplicar sobre los datos con el fin de obtener información relevante?"
   ]
  },
  {
   "cell_type": "code",
   "execution_count": null,
   "metadata": {
    "nbgrader": {
     "grade": true,
     "grade_id": "cell-29052f96082e3438",
     "locked": false,
     "points": 0,
     "schema_version": 3,
     "solution": true,
     "task": false
    }
   },
   "outputs": [],
   "source": [
    "# Implementa tu respuesta en esta celda\n"
   ]
  },
  {
   "cell_type": "markdown",
   "metadata": {
    "nbgrader": {
     "grade": false,
     "grade_id": "cell-32cfb4282f725e3c",
     "locked": true,
     "schema_version": 3,
     "solution": false,
     "task": false
    }
   },
   "source": [
    "## Referencias"
   ]
  },
  {
   "cell_type": "markdown",
   "metadata": {
    "nbgrader": {
     "grade": false,
     "grade_id": "cell-32cfb4282f725e3c1",
     "locked": true,
     "schema_version": 3,
     "solution": false,
     "task": false
    }
   },
   "source": [
    "*  J. VanderPlas (2016) *Python Data Science Handbook: Essential Tools for Working with Data* O'Reilly Media, Inc.\n",
    "*  scikit-learn developers . (2020). Demo of DBSCAN clustering algorithm. 11 Diciembre 2020, de scikit-learn <br> https://scikit-learn.org/stable/auto_examples/cluster/plot_dbscan.html#sphx-glr-auto-examples-cluster-plot-dbscan-py"
   ]
  },
  {
   "cell_type": "markdown",
   "metadata": {
    "nbgrader": {
     "grade": false,
     "grade_id": "cell-32cfb4282f725e3c2",
     "locked": true,
     "schema_version": 3,
     "solution": false,
     "task": false
    }
   },
   "source": [
    "## Créditos"
   ]
  },
  {
   "cell_type": "markdown",
   "metadata": {
    "nbgrader": {
     "grade": false,
     "grade_id": "cell-32cfb4282f725e3c3",
     "locked": true,
     "schema_version": 3,
     "solution": false,
     "task": false
    }
   },
   "source": [
    "__Autores__: Camilo Hernando Gómez Castro, Alejandro Mantilla Redondo, Jose Fernando Barrera de Plaza, Diego Alejandro Cely Gómez.\n",
    "\n",
    "__Fecha última actualización__: 29/09/2022"
   ]
  }
 ],
 "metadata": {
  "celltoolbar": "Create Assignment",
  "kernelspec": {
   "display_name": "Python 3",
   "language": "python",
   "name": "python3"
  },
  "language_info": {
   "codemirror_mode": {
    "name": "ipython",
    "version": 3
   },
   "file_extension": ".py",
   "mimetype": "text/x-python",
   "name": "python",
   "nbconvert_exporter": "python",
   "pygments_lexer": "ipython3",
   "version": "3.13.7"
  }
 },
 "nbformat": 4,
 "nbformat_minor": 2
}
